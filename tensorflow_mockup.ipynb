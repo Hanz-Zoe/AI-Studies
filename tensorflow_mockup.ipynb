{
  "nbformat": 4,
  "nbformat_minor": 0,
  "metadata": {
    "colab": {
      "provenance": [],
      "authorship_tag": "ABX9TyPkUzgNLaHbUiTHGixWczVO",
      "include_colab_link": true
    },
    "kernelspec": {
      "name": "python3",
      "display_name": "Python 3"
    },
    "language_info": {
      "name": "python"
    }
  },
  "cells": [
    {
      "cell_type": "markdown",
      "metadata": {
        "id": "view-in-github",
        "colab_type": "text"
      },
      "source": [
        "<a href=\"https://colab.research.google.com/github/Hanz-Zoe/AI-Studies/blob/main/tensorflow_mockup.ipynb\" target=\"_parent\"><img src=\"https://colab.research.google.com/assets/colab-badge.svg\" alt=\"Open In Colab\"/></a>"
      ]
    },
    {
      "cell_type": "code",
      "execution_count": 1,
      "metadata": {
        "colab": {
          "base_uri": "https://localhost:8080/"
        },
        "id": "PR3RFbukH7y2",
        "outputId": "28dcd4ff-1cc9-4fca-c6d7-42c5d24c62c4"
      },
      "outputs": [
        {
          "output_type": "stream",
          "name": "stdout",
          "text": [
            "Tensorflow Version:  2.15.0\n"
          ]
        }
      ],
      "source": [
        "import tensorflow as tf\n",
        "print(\"Tensorflow Version: \", tf.__version__)"
      ]
    },
    {
      "cell_type": "markdown",
      "source": [
        "# Loading a new Dataset\n",
        "Load and prepare the MNIST dataset. The pixel values of the images range from 0 through 255. Scale these values to a range of 0 to 1 by dividing the values by 255.0. This also converts the sample data from integers to floating-point numbers:"
      ],
      "metadata": {
        "id": "snRfmoatOM8-"
      }
    },
    {
      "cell_type": "code",
      "source": [
        "mnist = tf.keras.datasets.mnist\n",
        "\n",
        "(x_train, y_train), (x_test, y_test) = mnist.load_data()\n",
        "x_train, x_test = x_train / 255.0, x_test / 255.0"
      ],
      "metadata": {
        "colab": {
          "base_uri": "https://localhost:8080/"
        },
        "id": "a-xzL7-COdFv",
        "outputId": "e2fc5198-ee5f-4229-9c28-40db228b2e86"
      },
      "execution_count": 2,
      "outputs": [
        {
          "output_type": "stream",
          "name": "stdout",
          "text": [
            "Downloading data from https://storage.googleapis.com/tensorflow/tf-keras-datasets/mnist.npz\n",
            "11490434/11490434 [==============================] - 0s 0us/step\n"
          ]
        }
      ]
    },
    {
      "cell_type": "markdown",
      "source": [
        "# CREATING A MACHINE LEARNING MODEL\n",
        "\n",
        "\n",
        "Build a\n",
        "```\n",
        "#  tf.keras.Sequential :\n",
        "```\n",
        "model\n",
        "\n"
      ],
      "metadata": {
        "id": "YX2eJOc7O7TD"
      }
    },
    {
      "cell_type": "code",
      "source": [
        "model = tf.keras.models.Sequential([\n",
        "  tf.keras.layers.Flatten(input_shape=(28, 28)),\n",
        "  tf.keras.layers.Dense(128, activation='relu'),\n",
        "  tf.keras.layers.Dropout(0.2),\n",
        "  tf.keras.layers.Dense(10)\n",
        "])"
      ],
      "metadata": {
        "id": "HGZypB-EO6kQ"
      },
      "execution_count": 4,
      "outputs": []
    },
    {
      "cell_type": "code",
      "source": [
        "predictions = model(x_train[1:]).numpy()\n",
        "predictions"
      ],
      "metadata": {
        "colab": {
          "base_uri": "https://localhost:8080/"
        },
        "id": "rZaPiV-GQbxx",
        "outputId": "6a7ec0c0-e11d-4ff3-b642-ca85e42306ea"
      },
      "execution_count": 5,
      "outputs": [
        {
          "output_type": "execute_result",
          "data": {
            "text/plain": [
              "array([[ 0.35843375, -0.35822287,  0.62400895, ..., -0.6297127 ,\n",
              "         0.5346486 ,  0.06903816],\n",
              "       [ 0.3547577 , -0.16184098,  0.01098055, ..., -0.20584613,\n",
              "        -0.24253286,  0.11363522],\n",
              "       [ 0.19185078, -0.91868156,  0.14247087, ..., -0.5608319 ,\n",
              "         0.32419914, -0.47749677],\n",
              "       ...,\n",
              "       [ 0.00432061,  0.19780609,  0.39019126, ..., -0.42410395,\n",
              "        -0.09417187, -0.25496402],\n",
              "       [ 0.5498585 , -0.02843705,  0.73739254, ..., -0.40799013,\n",
              "         0.05407141, -0.02771793],\n",
              "       [ 0.08518894, -0.57582325,  0.9904036 , ..., -0.52617395,\n",
              "         0.18016513, -0.3678282 ]], dtype=float32)"
            ]
          },
          "metadata": {},
          "execution_count": 5
        }
      ]
    },
    {
      "cell_type": "markdown",
      "source": [
        "The tf.nn.softmax function converts these logits to probabilities for each class:"
      ],
      "metadata": {
        "id": "zw9okTyWQuZa"
      }
    },
    {
      "cell_type": "code",
      "source": [
        "tf.nn.softmax(predictions).numpy()\n",
        "#converts all of the arrays values into probabilites, we can use this to make the AI predict and make decisions based on these probabilities."
      ],
      "metadata": {
        "colab": {
          "base_uri": "https://localhost:8080/"
        },
        "id": "62Vi8ZuUQpJ5",
        "outputId": "f9fba0c5-8c3b-4c04-b609-5f1360ed0583"
      },
      "execution_count": 6,
      "outputs": [
        {
          "output_type": "execute_result",
          "data": {
            "text/plain": [
              "array([[0.14061095, 0.0686719 , 0.18338211, ..., 0.05234468, 0.16770586,\n",
              "        0.10527766],\n",
              "       [0.15512355, 0.09253835, 0.10999607, ..., 0.08855449, 0.08536459,\n",
              "        0.12188761],\n",
              "       [0.14448576, 0.04759123, 0.13752435, ..., 0.06806739, 0.16493134,\n",
              "        0.07398285],\n",
              "       ...,\n",
              "       [0.11162063, 0.13544849, 0.16418217, ..., 0.07272472, 0.10115091,\n",
              "        0.08612686],\n",
              "       [0.1511227 , 0.08475769, 0.18229498, ..., 0.05798843, 0.09204752,\n",
              "        0.08481867],\n",
              "       [0.11451149, 0.05912554, 0.28312537, ..., 0.06213518, 0.12592056,\n",
              "        0.07279578]], dtype=float32)"
            ]
          },
          "metadata": {},
          "execution_count": 6
        }
      ]
    },
    {
      "cell_type": "code",
      "source": [
        "#making the loss function\n",
        "loss_fn = tf.keras.losses.SparseCategoricalCrossentropy(from_logits=True)\n",
        "##  The loss function takes a vector of ground truth values and a vector of logits\n",
        "##  and returns a scalar loss for each example. This loss is equal to the negative log probability of the true class: The loss is zero if the model is sure of the correct class.\n",
        "##  This untrained model gives probabilities close to random (1/10 for each class), so the initial loss should be close to -tf.math.log(1/10) ~= 2.3.\n"
      ],
      "metadata": {
        "id": "KC4rpq2jQ3UZ"
      },
      "execution_count": 13,
      "outputs": []
    },
    {
      "cell_type": "markdown",
      "source": [
        "Clique duas vezes (ou pressione \"Enter\") para editar\n",
        "\n",
        "Before you start training, configure and compile the model using Keras Model.compile. Set the optimizer class to adam, set the loss to the loss_fn function you defined earlier, and specify a metric to be evaluated for the model by setting the metrics parameter to accuracy."
      ],
      "metadata": {
        "id": "qcOBo6c-Y3T_"
      }
    },
    {
      "cell_type": "code",
      "source": [
        "model.compile(optimizer='adam',\n",
        "              loss=loss_fn,\n",
        "              metrics=['accuracy'])"
      ],
      "metadata": {
        "id": "lK1P24FvR7_Z"
      },
      "execution_count": 15,
      "outputs": []
    },
    {
      "cell_type": "code",
      "source": [
        "model.fit(x_train, y_train, epochs=5)"
      ],
      "metadata": {
        "colab": {
          "base_uri": "https://localhost:8080/"
        },
        "id": "sS9p0sq8ZJsH",
        "outputId": "c1690133-f376-43e5-d1b5-6bfbe449797e"
      },
      "execution_count": 16,
      "outputs": [
        {
          "output_type": "stream",
          "name": "stdout",
          "text": [
            "Epoch 1/5\n",
            "1875/1875 [==============================] - 8s 4ms/step - loss: 0.2999 - accuracy: 0.9133\n",
            "Epoch 2/5\n",
            "1875/1875 [==============================] - 8s 4ms/step - loss: 0.1410 - accuracy: 0.9584\n",
            "Epoch 3/5\n",
            "1875/1875 [==============================] - 8s 4ms/step - loss: 0.1065 - accuracy: 0.9679\n",
            "Epoch 4/5\n",
            "1875/1875 [==============================] - 7s 4ms/step - loss: 0.0855 - accuracy: 0.9738\n",
            "Epoch 5/5\n",
            "1875/1875 [==============================] - 9s 5ms/step - loss: 0.0743 - accuracy: 0.9772\n"
          ]
        },
        {
          "output_type": "execute_result",
          "data": {
            "text/plain": [
              "<keras.src.callbacks.History at 0x7e7de8ed77c0>"
            ]
          },
          "metadata": {},
          "execution_count": 16
        }
      ]
    },
    {
      "cell_type": "code",
      "source": [
        "model.evaluate(x_test,  y_test, verbose=2)"
      ],
      "metadata": {
        "colab": {
          "base_uri": "https://localhost:8080/"
        },
        "id": "F1F_8uaiZQzN",
        "outputId": "60f0277b-c77b-405d-eee0-909058f35bd8"
      },
      "execution_count": 17,
      "outputs": [
        {
          "output_type": "stream",
          "name": "stdout",
          "text": [
            "313/313 - 1s - loss: 0.0708 - accuracy: 0.9782 - 821ms/epoch - 3ms/step\n"
          ]
        },
        {
          "output_type": "execute_result",
          "data": {
            "text/plain": [
              "[0.07084019482135773, 0.9782000184059143]"
            ]
          },
          "metadata": {},
          "execution_count": 17
        }
      ]
    },
    {
      "cell_type": "code",
      "source": [
        "probability_model = tf.keras.Sequential([\n",
        "  model,\n",
        "  tf.keras.layers.Softmax()\n",
        "])"
      ],
      "metadata": {
        "id": "TwUXQ6X0ZmCm"
      },
      "execution_count": 18,
      "outputs": []
    },
    {
      "cell_type": "code",
      "source": [
        "probability_model(x_test[:5])"
      ],
      "metadata": {
        "colab": {
          "base_uri": "https://localhost:8080/"
        },
        "id": "xtKV-w72Zoqy",
        "outputId": "22138317-7d7e-40c3-ddb5-7907064e9a76"
      },
      "execution_count": 19,
      "outputs": [
        {
          "output_type": "execute_result",
          "data": {
            "text/plain": [
              "<tf.Tensor: shape=(5, 10), dtype=float32, numpy=\n",
              "array([[7.0105153e-07, 1.9585869e-08, 1.6893779e-05, 6.0763926e-04,\n",
              "        2.5833823e-12, 4.4399837e-07, 3.0446735e-14, 9.9937207e-01,\n",
              "        5.3203036e-07, 1.7146182e-06],\n",
              "       [2.7703772e-08, 7.4561667e-06, 9.9998653e-01, 4.7749877e-06,\n",
              "        1.9658435e-13, 1.2550572e-06, 3.4271245e-08, 1.3926550e-13,\n",
              "        3.1141951e-08, 7.7840573e-12],\n",
              "       [3.6054797e-07, 9.9682742e-01, 5.7597109e-04, 3.5854759e-05,\n",
              "        1.3767557e-04, 2.9926773e-06, 2.0656387e-05, 1.8967465e-03,\n",
              "        4.9840152e-04, 4.0275904e-06],\n",
              "       [9.9954540e-01, 1.6817959e-08, 4.2264038e-04, 2.4238250e-07,\n",
              "        3.2078219e-06, 1.9508263e-06, 1.3314922e-05, 2.7674603e-06,\n",
              "        4.8588692e-08, 1.0259686e-05],\n",
              "       [2.3697000e-06, 2.2406563e-09, 4.3291516e-07, 2.5574911e-08,\n",
              "        9.9206960e-01, 4.0970585e-07, 7.3754086e-07, 1.8995868e-05,\n",
              "        2.6394528e-06, 7.9048676e-03]], dtype=float32)>"
            ]
          },
          "metadata": {},
          "execution_count": 19
        }
      ]
    },
    {
      "cell_type": "code",
      "source": [],
      "metadata": {
        "id": "Je6UuZfSZqgn"
      },
      "execution_count": null,
      "outputs": []
    }
  ]
}